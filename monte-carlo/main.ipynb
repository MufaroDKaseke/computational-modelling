{
 "cells": [
  {
   "cell_type": "markdown",
   "id": "260c06cb",
   "metadata": {},
   "source": [
    "# Monte Carlo"
   ]
  },
  {
   "cell_type": "code",
   "execution_count": 9,
   "id": "73937c21",
   "metadata": {},
   "outputs": [
    {
     "data": {
      "text/latex": [
       "$\\displaystyle \\frac{195}{2}$"
      ],
      "text/plain": [
       "195/2"
      ]
     },
     "execution_count": 9,
     "metadata": {},
     "output_type": "execute_result"
    }
   ],
   "source": [
    "import sympy\n",
    "from sympy.interactive import printing\n",
    "printing.init_printing(use_latex=\"mathjax\")\n",
    "\n",
    "x = sympy.Symbol(\"x\")\n",
    "sympy.integrate(x**2 + 3*x + 9, (x, 2, 5))"
   ]
  },
  {
   "cell_type": "code",
   "execution_count": 11,
   "id": "07d57a65",
   "metadata": {},
   "outputs": [
    {
     "data": {
      "text/latex": [
       "$\\displaystyle 97.4803667627865$"
      ],
      "text/plain": [
       "97.48036676278653"
      ]
     },
     "execution_count": 11,
     "metadata": {},
     "output_type": "execute_result"
    }
   ],
   "source": [
    "float(_)"
   ]
  },
  {
   "cell_type": "code",
   "execution_count": 12,
   "id": "cea5f939",
   "metadata": {},
   "outputs": [
    {
     "data": {
      "text/latex": [
       "$\\displaystyle 97.4646237443271$"
      ],
      "text/plain": [
       "97.46462374432708"
      ]
     },
     "execution_count": 12,
     "metadata": {},
     "output_type": "execute_result"
    }
   ],
   "source": [
    "import numpy as np\n",
    "\n",
    "N = 1000000\n",
    "accum = 0\n",
    "for i in range(N):\n",
    "  x = np.random.uniform(2, 5)\n",
    "  accum += x**2 + 3*x + 9\n",
    "measure = 5 - 2\n",
    "measure * accum/float(N)"
   ]
  }
 ],
 "metadata": {
  "kernelspec": {
   "display_name": "env",
   "language": "python",
   "name": "python3"
  },
  "language_info": {
   "codemirror_mode": {
    "name": "ipython",
    "version": 3
   },
   "file_extension": ".py",
   "mimetype": "text/x-python",
   "name": "python",
   "nbconvert_exporter": "python",
   "pygments_lexer": "ipython3",
   "version": "3.11.8"
  }
 },
 "nbformat": 4,
 "nbformat_minor": 5
}
